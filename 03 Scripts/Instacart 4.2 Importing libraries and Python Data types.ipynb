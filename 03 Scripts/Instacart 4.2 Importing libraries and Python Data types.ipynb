{
 "cells": [
  {
   "cell_type": "markdown",
   "id": "dc3f0784",
   "metadata": {},
   "source": [
    "# 01 Importing libraries"
   ]
  },
  {
   "cell_type": "code",
   "execution_count": 1,
   "id": "ca991dd7",
   "metadata": {},
   "outputs": [],
   "source": [
    "# Import libraries\n",
    "import pandas as pd\n",
    "import numpy as np\n",
    "import os"
   ]
  },
  {
   "cell_type": "markdown",
   "id": "8f83beaa",
   "metadata": {},
   "source": [
    "# Working with Python Data types"
   ]
  },
  {
   "cell_type": "code",
   "execution_count": 2,
   "id": "a213f9c7",
   "metadata": {},
   "outputs": [],
   "source": [
    "x=60"
   ]
  },
  {
   "cell_type": "code",
   "execution_count": 3,
   "id": "a7276c1a",
   "metadata": {},
   "outputs": [],
   "source": [
    "y=40"
   ]
  },
  {
   "cell_type": "code",
   "execution_count": 4,
   "id": "fde538c2",
   "metadata": {},
   "outputs": [
    {
     "data": {
      "text/plain": [
       "100"
      ]
     },
     "execution_count": 4,
     "metadata": {},
     "output_type": "execute_result"
    }
   ],
   "source": [
    "x+y"
   ]
  },
  {
   "cell_type": "code",
   "execution_count": 5,
   "id": "41a05f0e",
   "metadata": {},
   "outputs": [],
   "source": [
    "a=120"
   ]
  },
  {
   "cell_type": "code",
   "execution_count": 6,
   "id": "a30f4921",
   "metadata": {},
   "outputs": [],
   "source": [
    "b=20"
   ]
  },
  {
   "cell_type": "code",
   "execution_count": 8,
   "id": "7139a614",
   "metadata": {},
   "outputs": [
    {
     "data": {
      "text/plain": [
       "100"
      ]
     },
     "execution_count": 8,
     "metadata": {},
     "output_type": "execute_result"
    }
   ],
   "source": [
    "a-b"
   ]
  },
  {
   "cell_type": "code",
   "execution_count": 9,
   "id": "ce237e60",
   "metadata": {},
   "outputs": [],
   "source": [
    "c=100"
   ]
  },
  {
   "cell_type": "code",
   "execution_count": 10,
   "id": "59448c9c",
   "metadata": {},
   "outputs": [
    {
     "data": {
      "text/plain": [
       "100"
      ]
     },
     "execution_count": 10,
     "metadata": {},
     "output_type": "execute_result"
    }
   ],
   "source": [
    "c"
   ]
  },
  {
   "cell_type": "code",
   "execution_count": 11,
   "id": "0a3036e3",
   "metadata": {},
   "outputs": [],
   "source": [
    "d=12.2"
   ]
  },
  {
   "cell_type": "code",
   "execution_count": 12,
   "id": "bd330768",
   "metadata": {},
   "outputs": [],
   "source": [
    "e=6.1"
   ]
  },
  {
   "cell_type": "code",
   "execution_count": 13,
   "id": "5d19ebae",
   "metadata": {},
   "outputs": [
    {
     "data": {
      "text/plain": [
       "2.0"
      ]
     },
     "execution_count": 13,
     "metadata": {},
     "output_type": "execute_result"
    }
   ],
   "source": [
    "d/e"
   ]
  },
  {
   "cell_type": "code",
   "execution_count": 14,
   "id": "522cb36a",
   "metadata": {},
   "outputs": [],
   "source": [
    "f='every'"
   ]
  },
  {
   "cell_type": "code",
   "execution_count": 15,
   "id": "2909de0d",
   "metadata": {},
   "outputs": [],
   "source": [
    "g='thing'"
   ]
  },
  {
   "cell_type": "code",
   "execution_count": 16,
   "id": "9f0deedd",
   "metadata": {},
   "outputs": [
    {
     "data": {
      "text/plain": [
       "'everything'"
      ]
     },
     "execution_count": 16,
     "metadata": {},
     "output_type": "execute_result"
    }
   ],
   "source": [
    "f+g"
   ]
  },
  {
   "cell_type": "code",
   "execution_count": 17,
   "id": "669a09ba",
   "metadata": {},
   "outputs": [],
   "source": [
    "h='On'"
   ]
  },
  {
   "cell_type": "code",
   "execution_count": 18,
   "id": "10550330",
   "metadata": {},
   "outputs": [],
   "source": [
    "i=' question '"
   ]
  },
  {
   "cell_type": "code",
   "execution_count": 19,
   "id": "9e1c5fce",
   "metadata": {},
   "outputs": [],
   "source": [
    "j='ten. '"
   ]
  },
  {
   "cell_type": "code",
   "execution_count": 20,
   "id": "c7e1c355",
   "metadata": {},
   "outputs": [
    {
     "data": {
      "text/plain": [
       "'On question ten. '"
      ]
     },
     "execution_count": 20,
     "metadata": {},
     "output_type": "execute_result"
    }
   ],
   "source": [
    "h+i+j"
   ]
  },
  {
   "cell_type": "code",
   "execution_count": 21,
   "id": "c3804c3a",
   "metadata": {},
   "outputs": [],
   "source": [
    "k='Almost '"
   ]
  },
  {
   "cell_type": "code",
   "execution_count": 22,
   "id": "6d7292a2",
   "metadata": {},
   "outputs": [],
   "source": [
    "l='done.'"
   ]
  },
  {
   "cell_type": "code",
   "execution_count": 23,
   "id": "a877be52",
   "metadata": {},
   "outputs": [
    {
     "data": {
      "text/plain": [
       "'Almost done.'"
      ]
     },
     "execution_count": 23,
     "metadata": {},
     "output_type": "execute_result"
    }
   ],
   "source": [
    "k+l"
   ]
  },
  {
   "cell_type": "code",
   "execution_count": 24,
   "id": "5387f1f6",
   "metadata": {},
   "outputs": [
    {
     "data": {
      "text/plain": [
       "'On question ten. Almost done.'"
      ]
     },
     "execution_count": 24,
     "metadata": {},
     "output_type": "execute_result"
    }
   ],
   "source": [
    "h+i+j+k+l"
   ]
  }
 ],
 "metadata": {
  "kernelspec": {
   "display_name": "Python 3 (ipykernel)",
   "language": "python",
   "name": "python3"
  },
  "language_info": {
   "codemirror_mode": {
    "name": "ipython",
    "version": 3
   },
   "file_extension": ".py",
   "mimetype": "text/x-python",
   "name": "python",
   "nbconvert_exporter": "python",
   "pygments_lexer": "ipython3",
   "version": "3.9.12"
  }
 },
 "nbformat": 4,
 "nbformat_minor": 5
}
